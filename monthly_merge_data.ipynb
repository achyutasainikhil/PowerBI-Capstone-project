{
 "cells": [
  {
   "cell_type": "code",
   "execution_count": 1,
   "id": "4179b5e4",
   "metadata": {},
   "outputs": [
    {
     "name": "stdout",
     "output_type": "stream",
     "text": [
      "   Year Month  Supply Beginning cold-storage stocks \\r\\n[A]  \\\n",
      "0  2011   Jan                                         630.8   \n",
      "1  2011   Feb                                         637.9   \n",
      "2  2011   Mar                                         621.0   \n",
      "3  2011   Apr                                         611.2   \n",
      "4  2011   May                                         622.1   \n",
      "\n",
      "   Supply Production   Supply Imports \\r\\n[C] Total supplys\\r\\n= [A + B + C]  \\\n",
      "0               357.0                     1.7                          989.4   \n",
      "1               327.3                     1.1                          966.3   \n",
      "2               363.5                     2.0                          986.6   \n",
      "3               355.8                     1.1                          968.2   \n",
      "4               369.1                     0.8                            992   \n",
      "\n",
      "   Utilization Exports \\r\\n[E]  \\\n",
      "0                         12.4   \n",
      "1                         12.1   \n",
      "2                         17.0   \n",
      "3                         13.7   \n",
      "4                         13.7   \n",
      "\n",
      "   Utilization Ending \\r\\ncold-storage stocks \\r\\n[F]  \\\n",
      "0                                              637.9    \n",
      "1                                              621.0    \n",
      "2                                              611.2    \n",
      "3                                              622.1    \n",
      "4                                              622.7    \n",
      "\n",
      "   Utilization Domestic disappearance\\r\\n= [D - E - F]  \n",
      "0                                              339.1    \n",
      "1                                              333.1    \n",
      "2                                              358.4    \n",
      "3                                              332.3    \n",
      "4                                              355.7    \n"
     ]
    }
   ],
   "source": [
    "import git\n",
    "import pandas as pd\n",
    "\n",
    "# Clone the Git repository\n",
    "repo_url = 'https://github.com/achyutasainikhil/MonthlyData.git'\n",
    "repo_path = 'achyutasainikhil/MonthlyData'\n",
    "git.Repo.clone_from(repo_url, repo_path)\n",
    "\n",
    "# # Path to the file you want to extract\n",
    "file_path = 'achyutasainikhil/MonthlyData/Monthly supply and utilization - Amer cheese, monthly.csv'\n",
    "\n",
    "# # Read the file into a DataFrame\n",
    "df = pd.read_csv(file_path)\n",
    "\n",
    "# # Now you have your DataFrame ready to use\n",
    "print(df.head())"
   ]
  },
  {
   "cell_type": "code",
   "execution_count": 2,
   "id": "668ceafd",
   "metadata": {},
   "outputs": [],
   "source": [
    "# Local path to the existing repository\n",
    "repo_path = 'achyutasainikhil/MonthlyData'\n",
    "\n",
    "# Open the existing repository\n",
    "repo = git.Repo(repo_path)\n",
    "\n",
    "# Pull changes from the remote repository\n",
    "origin = repo.remotes.origin\n",
    "origin.pull()\n",
    "\n",
    "# Path to the file you want to extract\n",
    "cheese_path = 'achyutasainikhil/MonthlyData/Monthly supply and utilization - Amer cheese, monthly.csv'\n",
    "butter_path = 'achyutasainikhil/MonthlyData/Monthly supply and utilization - Butter, monthly.csv'\n",
    "lactose_path = 'achyutasainikhil/MonthlyData/Monthly supply and utilization - Lactose, monthly.csv'\n",
    "others_path = 'achyutasainikhil/MonthlyData/Monthly supply and utilization - Other cheese, monthly.csv'\n",
    "\n",
    "# Read the file into a DataFrame\n",
    "cheese_path_df = pd.read_csv(cheese_path)\n",
    "butter_path_df = pd.read_csv(butter_path)\n",
    "lactose_path_df = pd.read_csv(lactose_path)\n",
    "others_path_df = pd.read_csv(others_path)\n",
    "\n",
    "cheese_path_df['incredient'] = 'cheese'\n",
    "butter_path_df['incredient'] = 'butter'\n",
    "lactose_path_df['incredient'] = 'lactose'\n",
    "others_path_df['incredient'] = 'others'\n",
    "\n",
    "merged_df = pd.concat([cheese_path_df, butter_path_df, lactose_path_df, others_path_df], ignore_index=True)\n",
    "\n",
    "merged_df.to_excel('C:/Users/altaf/Documents/2nd_semester/Nikil project/monthly_merged_data.xlsx', index=False)"
   ]
  },
  {
   "cell_type": "code",
   "execution_count": null,
   "id": "a136f525",
   "metadata": {},
   "outputs": [],
   "source": []
  }
 ],
 "metadata": {
  "kernelspec": {
   "display_name": "Python 3 (ipykernel)",
   "language": "python",
   "name": "python3"
  },
  "language_info": {
   "codemirror_mode": {
    "name": "ipython",
    "version": 3
   },
   "file_extension": ".py",
   "mimetype": "text/x-python",
   "name": "python",
   "nbconvert_exporter": "python",
   "pygments_lexer": "ipython3",
   "version": "3.11.5"
  }
 },
 "nbformat": 4,
 "nbformat_minor": 5
}
