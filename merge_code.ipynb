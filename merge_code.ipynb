{
 "cells": [
  {
   "cell_type": "code",
   "execution_count": 11,
   "id": "96c22c8c",
   "metadata": {},
   "outputs": [
    {
     "ename": "GitCommandError",
     "evalue": "Cmd('git') failed due to: exit code(128)\n  cmdline: git clone -v -- https://github.com/achyutasainikhil/PowerBI-Capstone-project.git achyutasainikhil/PowerBI-Capstone-project\n  stderr: 'fatal: destination path 'achyutasainikhil/PowerBI-Capstone-project' already exists and is not an empty directory.\n'",
     "output_type": "error",
     "traceback": [
      "\u001b[1;31m---------------------------------------------------------------------------\u001b[0m",
      "\u001b[1;31mGitCommandError\u001b[0m                           Traceback (most recent call last)",
      "Cell \u001b[1;32mIn[11], line 7\u001b[0m\n\u001b[0;32m      5\u001b[0m repo_url \u001b[38;5;241m=\u001b[39m \u001b[38;5;124m'\u001b[39m\u001b[38;5;124mhttps://github.com/achyutasainikhil/PowerBI-Capstone-project.git\u001b[39m\u001b[38;5;124m'\u001b[39m\n\u001b[0;32m      6\u001b[0m repo_path \u001b[38;5;241m=\u001b[39m \u001b[38;5;124m'\u001b[39m\u001b[38;5;124machyutasainikhil/PowerBI-Capstone-project\u001b[39m\u001b[38;5;124m'\u001b[39m\n\u001b[1;32m----> 7\u001b[0m git\u001b[38;5;241m.\u001b[39mRepo\u001b[38;5;241m.\u001b[39mclone_from(repo_url, repo_path)\n\u001b[0;32m      9\u001b[0m \u001b[38;5;66;03m# # Path to the file you want to extract\u001b[39;00m\n\u001b[0;32m     10\u001b[0m file_path \u001b[38;5;241m=\u001b[39m \u001b[38;5;124m'\u001b[39m\u001b[38;5;124machyutasainikhil/MonthlyData2/Monthly supply and utilization - Dry whey, monthly.csv\u001b[39m\u001b[38;5;124m'\u001b[39m\n",
      "File \u001b[1;32m~\\anaconda3\\Lib\\site-packages\\git\\repo\\base.py:1328\u001b[0m, in \u001b[0;36mRepo.clone_from\u001b[1;34m(cls, url, to_path, progress, env, multi_options, allow_unsafe_protocols, allow_unsafe_options, **kwargs)\u001b[0m\n\u001b[0;32m   1326\u001b[0m \u001b[38;5;28;01mif\u001b[39;00m env \u001b[38;5;129;01mis\u001b[39;00m \u001b[38;5;129;01mnot\u001b[39;00m \u001b[38;5;28;01mNone\u001b[39;00m:\n\u001b[0;32m   1327\u001b[0m     git\u001b[38;5;241m.\u001b[39mupdate_environment(\u001b[38;5;241m*\u001b[39m\u001b[38;5;241m*\u001b[39menv)\n\u001b[1;32m-> 1328\u001b[0m \u001b[38;5;28;01mreturn\u001b[39;00m \u001b[38;5;28mcls\u001b[39m\u001b[38;5;241m.\u001b[39m_clone(\n\u001b[0;32m   1329\u001b[0m     git,\n\u001b[0;32m   1330\u001b[0m     url,\n\u001b[0;32m   1331\u001b[0m     to_path,\n\u001b[0;32m   1332\u001b[0m     GitCmdObjectDB,\n\u001b[0;32m   1333\u001b[0m     progress,\n\u001b[0;32m   1334\u001b[0m     multi_options,\n\u001b[0;32m   1335\u001b[0m     allow_unsafe_protocols\u001b[38;5;241m=\u001b[39mallow_unsafe_protocols,\n\u001b[0;32m   1336\u001b[0m     allow_unsafe_options\u001b[38;5;241m=\u001b[39mallow_unsafe_options,\n\u001b[0;32m   1337\u001b[0m     \u001b[38;5;241m*\u001b[39m\u001b[38;5;241m*\u001b[39mkwargs,\n\u001b[0;32m   1338\u001b[0m )\n",
      "File \u001b[1;32m~\\anaconda3\\Lib\\site-packages\\git\\repo\\base.py:1237\u001b[0m, in \u001b[0;36mRepo._clone\u001b[1;34m(cls, git, url, path, odb_default_type, progress, multi_options, allow_unsafe_protocols, allow_unsafe_options, **kwargs)\u001b[0m\n\u001b[0;32m   1234\u001b[0m     cmdline \u001b[38;5;241m=\u001b[39m remove_password_if_present(cmdline)\n\u001b[0;32m   1236\u001b[0m     log\u001b[38;5;241m.\u001b[39mdebug(\u001b[38;5;124m\"\u001b[39m\u001b[38;5;124mCmd(\u001b[39m\u001b[38;5;132;01m%s\u001b[39;00m\u001b[38;5;124m)\u001b[39m\u001b[38;5;124m'\u001b[39m\u001b[38;5;124ms unused stdout: \u001b[39m\u001b[38;5;132;01m%s\u001b[39;00m\u001b[38;5;124m\"\u001b[39m, cmdline, stdout)\n\u001b[1;32m-> 1237\u001b[0m     finalize_process(proc, stderr\u001b[38;5;241m=\u001b[39mstderr)\n\u001b[0;32m   1239\u001b[0m \u001b[38;5;66;03m# our git command could have a different working dir than our actual\u001b[39;00m\n\u001b[0;32m   1240\u001b[0m \u001b[38;5;66;03m# environment, hence we prepend its working dir if required\u001b[39;00m\n\u001b[0;32m   1241\u001b[0m \u001b[38;5;28;01mif\u001b[39;00m \u001b[38;5;129;01mnot\u001b[39;00m osp\u001b[38;5;241m.\u001b[39misabs(path):\n",
      "File \u001b[1;32m~\\anaconda3\\Lib\\site-packages\\git\\util.py:437\u001b[0m, in \u001b[0;36mfinalize_process\u001b[1;34m(proc, **kwargs)\u001b[0m\n\u001b[0;32m    435\u001b[0m \u001b[38;5;250m\u001b[39m\u001b[38;5;124;03m\"\"\"Wait for the process (clone, fetch, pull or push) and handle its errors accordingly\"\"\"\u001b[39;00m\n\u001b[0;32m    436\u001b[0m \u001b[38;5;66;03m# TODO: No close proc-streams??\u001b[39;00m\n\u001b[1;32m--> 437\u001b[0m proc\u001b[38;5;241m.\u001b[39mwait(\u001b[38;5;241m*\u001b[39m\u001b[38;5;241m*\u001b[39mkwargs)\n",
      "File \u001b[1;32m~\\anaconda3\\Lib\\site-packages\\git\\cmd.py:602\u001b[0m, in \u001b[0;36mGit.AutoInterrupt.wait\u001b[1;34m(self, stderr)\u001b[0m\n\u001b[0;32m    600\u001b[0m     errstr \u001b[38;5;241m=\u001b[39m read_all_from_possibly_closed_stream(p_stderr)\n\u001b[0;32m    601\u001b[0m     log\u001b[38;5;241m.\u001b[39mdebug(\u001b[38;5;124m\"\u001b[39m\u001b[38;5;124mAutoInterrupt wait stderr: \u001b[39m\u001b[38;5;132;01m%r\u001b[39;00m\u001b[38;5;124m\"\u001b[39m \u001b[38;5;241m%\u001b[39m (errstr,))\n\u001b[1;32m--> 602\u001b[0m     \u001b[38;5;28;01mraise\u001b[39;00m GitCommandError(remove_password_if_present(\u001b[38;5;28mself\u001b[39m\u001b[38;5;241m.\u001b[39margs), status, errstr)\n\u001b[0;32m    603\u001b[0m \u001b[38;5;28;01mreturn\u001b[39;00m status\n",
      "\u001b[1;31mGitCommandError\u001b[0m: Cmd('git') failed due to: exit code(128)\n  cmdline: git clone -v -- https://github.com/achyutasainikhil/PowerBI-Capstone-project.git achyutasainikhil/PowerBI-Capstone-project\n  stderr: 'fatal: destination path 'achyutasainikhil/PowerBI-Capstone-project' already exists and is not an empty directory.\n'"
     ]
    }
   ],
   "source": [
    "import git\n",
    "import pandas as pd\n",
    "\n",
    "# Clone the Git repository\n",
    "repo_url = 'https://github.com/achyutasainikhil/PowerBI-Capstone-project.git'\n",
    "repo_path = 'achyutasainikhil/PowerBI-Capstone-project'\n",
    "git.Repo.clone_from(repo_url, repo_path)\n",
    "\n",
    "# # Path to the file you want to extract\n",
    "file_path = 'achyutasainikhil/MonthlyData2/Monthly supply and utilization - Dry whey, monthly.csv'\n",
    "\n",
    "# # Read the file into a DataFrame\n",
    "df = pd.read_csv(file_path)\n",
    "\n",
    "# # Now you have your DataFrame ready to use\n",
    "print(df.head())"
   ]
  },
  {
   "cell_type": "code",
   "execution_count": 9,
   "id": "10bca64f",
   "metadata": {},
   "outputs": [],
   "source": [
    "# Local path to the existing repository\n",
    "repo_path = 'achyutasainikhil/MonthlyData2'\n",
    "\n",
    "# Open the existing repository\n",
    "repo = git.Repo(repo_path)\n",
    "\n",
    "# Pull changes from the remote repository\n",
    "origin = repo.remotes.origin\n",
    "origin.pull()\n",
    "\n",
    "# Path to the file you want to extract\n",
    "Dry_path = 'achyutasainikhil/MonthlyData2/Monthly supply and utilization - Dry whey, monthly.csv'\n",
    "WPC_path = 'achyutasainikhil/MonthlyData2/Monthly supply and utilization - WPC, monthly.csv'\n",
    "\n",
    "\n",
    "# Read the file into a DataFrame\n",
    "Dry_path_df = pd.read_csv(Dry_path)\n",
    "WPC_path_df = pd.read_csv(WPC_path)\n",
    "\n",
    "\n",
    "Dry_path_df['incredient'] = 'dry'\n",
    "WPC_path_df['incredient'] = 'wpc'\n",
    "\n",
    "\n",
    "merged_df = pd.concat([Dry_path_df, WPC_path_df], ignore_index=True)\n",
    "\n",
    "merged_df.to_excel('monthly_merged_data2.xlsx', index=False)"
   ]
  },
  {
   "cell_type": "code",
   "execution_count": null,
   "id": "062eea86",
   "metadata": {},
   "outputs": [],
   "source": []
  }
 ],
 "metadata": {
  "kernelspec": {
   "display_name": "Python 3 (ipykernel)",
   "language": "python",
   "name": "python3"
  },
  "language_info": {
   "codemirror_mode": {
    "name": "ipython",
    "version": 3
   },
   "file_extension": ".py",
   "mimetype": "text/x-python",
   "name": "python",
   "nbconvert_exporter": "python",
   "pygments_lexer": "ipython3",
   "version": "3.11.5"
  }
 },
 "nbformat": 4,
 "nbformat_minor": 5
}
